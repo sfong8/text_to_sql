{
 "cells": [
  {
   "cell_type": "code",
   "execution_count": 8,
   "id": "079f19d5-6833-43ac-b0b2-33ac7564efc4",
   "metadata": {},
   "outputs": [
    {
     "name": "stderr",
     "output_type": "stream",
     "text": [
      "/opt/conda/lib/python3.11/site-packages/pydantic/_internal/_fields.py:132: UserWarning: Field \"model_id\" in BedrockBase has conflict with protected namespace \"model_\".\n",
      "\n",
      "You may be able to resolve this warning by setting `model_config['protected_namespaces'] = ()`.\n",
      "  warnings.warn(\n",
      "/opt/conda/lib/python3.11/site-packages/pydantic/_internal/_fields.py:132: UserWarning: Field \"model_kwargs\" in BedrockBase has conflict with protected namespace \"model_\".\n",
      "\n",
      "You may be able to resolve this warning by setting `model_config['protected_namespaces'] = ()`.\n",
      "  warnings.warn(\n",
      "athena client created \n",
      "s3 client created !!\n",
      "bedrock runtime client created \n",
      "/home/sagemaker-user/demo/llm_basemodel2.py:33: LangChainDeprecationWarning: The class `BedrockEmbeddings` was deprecated in LangChain 0.2.11 and will be removed in 1.0. An updated version of the class exists in the :class:`~langchain-aws package and should be used instead. To use it run `pip install -U :class:`~langchain-aws` and import as `from :class:`~langchain_aws import BedrockEmbeddings``.\n",
      "  self.embeddings = BedrockEmbeddings(\n"
     ]
    },
    {
     "name": "stdout",
     "output_type": "stream",
     "text": [
      "Loaded vector store\n"
     ]
    },
    {
     "name": "stderr",
     "output_type": "stream",
     "text": [
      "bedrock runtime client created \n"
     ]
    }
   ],
   "source": [
    "import boto3\n",
    "from botocore.config import Config\n",
    "from langchain.llms.bedrock import Bedrock\n",
    "from langchain.embeddings import BedrockEmbeddings\n",
    "import pprint\n",
    "import streamlit as st\n",
    "import logging \n",
    "import json\n",
    "import os,sys\n",
    "import re\n",
    "sys.path.append('/home/sagemaker-user/demo/')\n",
    "import time\n",
    "import pandas as pd\n",
    "import io\n",
    "from boto_client import Clientmodules\n",
    "from llm_basemodel2 import LanguageModel_titantext, LanguageModel\n",
    "from athena_execution import AthenaQueryExecute\n",
    "from vector_embedding_client_product import EmbeddingBedrock\n",
    "from sql_formatter.core import format_sql\n",
    "import importlib.util\n",
    "import inspect\n",
    "from src.utils import *\n",
    "\n",
    "\n",
    "logger = logging.getLogger(__name__)\n",
    "logger.setLevel(logging.DEBUG)\n",
    "logger.addHandler(logging.StreamHandler())\n",
    "session = boto3.session.Session()\n",
    "bedrock_client = session.client('bedrock')\n",
    "rqstath=AthenaQueryExecute()\n",
    "comprehend_client = session.client('comprehend')\n",
    "eb = EmbeddingBedrock()\n",
    "\n",
    "eb_load = eb.load_local_vector_store(vector_store_path=r'/home/sagemaker-user/demo/vector_store_client_product/23072024121127.vs')\n",
    "# eb_load = eb.load_local_vector_store(vector_store_path=r'/home/sagemaker-user/text-to-sql-for-athena/vector_store_client_product/22072024182912.vs')\n",
    "# eb_load = eb.load_local_vector_store(vector_store_path=r'/home/sagemaker-user/text-to-sql-for-athena/vector_store/20062024133050.vs')\n",
    "from inspect import cleandoc\n",
    "class RequestQueryBedrock:\n",
    "    def __init__(self):\n",
    "        # self.model_id = \"anthropic.claude-v2\"\n",
    "        self.bedrock_client = Clientmodules.createBedrockRuntimeClient()\n",
    "        self.language_model = LanguageModel(self.bedrock_client)\n",
    "        self.llm = self.language_model.llm\n",
    "    def getEmbedding(self,user_query):\n",
    "        vcindxdoc=eb_load\n",
    "        documnet=eb.getSimilaritySearch(user_query,vcindxdoc)\n",
    "        return eb.format_metadata(documnet)\n",
    "        \n",
    "    def generate_sql(self,prompt, max_attempt=2) ->str:\n",
    "            \"\"\"\n",
    "            Generate and Validate SQL query.\n",
    "\n",
    "            Args:\n",
    "            - prompt (str): Prompt is user input and metadata from Rag to generating SQL.\n",
    "            - max_attempt (int): Maximum number of attempts correct the syntax SQL.\n",
    "\n",
    "            Returns:\n",
    "            - string: Sql query is returned .\n",
    "            \"\"\"\n",
    "            attempt = 0\n",
    "            error_messages = []\n",
    "            prompts = [prompt]\n",
    "\n",
    "            while attempt < max_attempt:\n",
    "                logger.info(f'Sql Generation attempt Count: {attempt+1}')\n",
    "                logger.info(f'we are in Try block to generate the sql and count is :{attempt+1}')\n",
    "                generated_sql = self.llm.invoke(prompt).content\n",
    "                print(generated_sql)\n",
    "                query_str = generated_sql.split(\"```\")[1]\n",
    "                query_str = \" \".join(query_str.split(\"\\n\")).strip()\n",
    "                query_str = query_str.replace('`','\"')\n",
    "                sql_query = query_str[3:] if query_str.startswith(\"sql\") else query_str\n",
    "                \n",
    "                explanation = generated_sql.split(\"```\")[2]\n",
    "    \n",
    "                \n",
    "                \n",
    "                # return sql_query\n",
    "                syntaxcheckmsg=rqstath.syntax_checker(sql_query)\n",
    "                if syntaxcheckmsg=='Passed':\n",
    "                    logger.info(f'syntax checked for query passed in attempt number :{attempt+1}')\n",
    "                    return sql_query,explanation\n",
    "                else:\n",
    "                    prompt = f\"\"\"{prompt}\n",
    "                    This is syntax error: {syntaxcheckmsg}. \n",
    "                    To correct this, please generate an alternative SQL query which will correct the syntax error for Athena.\n",
    "                    The updated query should take care of all the syntax issues encountered.\n",
    "                    Follow the instructions mentioned above to remediate the error. \n",
    "                    Update the below SQL query to resolve the issue:\n",
    "                    {sqlgenerated}\n",
    "                    Make sure the updated SQL query aligns with the requirements provided in the initial question.\"\"\"\n",
    "                    prompts.append(prompt)\n",
    "                    attempt += 1\n",
    "\n",
    "            return sql_query,explanation\n",
    "\n",
    "rqst=RequestQueryBedrock()\n"
   ]
  },
  {
   "cell_type": "code",
   "execution_count": 10,
   "id": "9629a184-bee6-43fa-98b9-6eb43c9dc69b",
   "metadata": {},
   "outputs": [],
   "source": [
    "\n",
    "def userinput(user_query):\n",
    "    logger.info(f'Searching metadata from vector store')\n",
    "    # vector_search_match=rqst.getEmbeddding(user_query)\n",
    "    vector_search_match=rqst.getEmbedding(user_query)\n",
    "    # print(vector_search_match)\n",
    "    # details=\"It is important that the SQL query complies with Athena syntax.For date columns comparing to string , please cast the string input as date. It is important to not use alias for group by clause, if select has DATE_FORMAT then use DATE_FORMAT in the group by. It is also important to respect the type of columns: if a column is string, the value should be enclosed in quotes. If you are writing CTEs then include all the required columns. While concatenating a non string column, make sure cast the column to string. \"\n",
    "    \n",
    "        \n",
    "    # final_question = \"\\n\\nHuman:\"+details + vector_search_match + user_query+ \"n\\nAssistant:\"\n",
    "    final_question =f\"\"\" You are an AI assistant that converts natural language questions into SQL query complies with Athena syntax.\n",
    "            Important notes: It is important that the SQL query complies with Athena syntax.\n",
    "            For date columns comparing to string , please cast the string input as date. \n",
    "            It is important to not use alias for group by clause. \n",
    "            It is also important to respect the type of columns: if a column is string, the value should be enclosed in quotes. \n",
    "            If you are writing CTEs then include all the required columns. \n",
    "            While concatenating a non string column, make sure cast the column to string.\n",
    "            \n",
    "            Database tables information:\n",
    "            {vector_search_match}\n",
    "\n",
    "            User question: {user_query}\n",
    "\n",
    "                \"\"\"\n",
    "    \n",
    "    answer,explanation = rqst.generate_sql(final_question)\n",
    "    return answer,explanation"
   ]
  },
  {
   "cell_type": "code",
   "execution_count": 26,
   "id": "c80db577-2506-4481-ad8b-3a8e0f254019",
   "metadata": {},
   "outputs": [
    {
     "name": "stderr",
     "output_type": "stream",
     "text": [
      "Searching metadata from vector store\n",
      "Sql Generation attempt Count: 1\n",
      "we are in Try block to generate the sql and count is :1\n"
     ]
    },
    {
     "name": "stdout",
     "output_type": "stream",
     "text": [
      "To answer this question, we'll need to join the client_info and product_income tables, filter for the specific RD, and then aggregate the income by client name and product level 2 on a monthly basis. Here's the SQL query that complies with Athena syntax:\n",
      "\n",
      "```sql\n",
      "WITH client_rd AS (\n",
      "    SELECT client_id, client_name\n",
      "    FROM client_product.client_info\n",
      "    WHERE LOWER(rd_name) LIKE LOWER('%John Smith%')\n",
      ")\n",
      "\n",
      "SELECT \n",
      "    ci.client_name,\n",
      "    pi.product_level2,\n",
      "    DATE_TRUNC('month', pi.summary_date) AS month,\n",
      "    SUM(pi.income) AS monthly_income\n",
      "FROM client_product.product_income pi\n",
      "JOIN client_rd ci ON pi.client_id = ci.client_id\n",
      "GROUP BY \n",
      "    ci.client_name,\n",
      "    pi.product_level2,\n",
      "    DATE_TRUNC('month', pi.summary_date)\n",
      "ORDER BY \n",
      "    ci.client_name,\n",
      "    pi.product_level2,\n",
      "    month\n",
      "```\n",
      "\n",
      "This query does the following:\n",
      "\n",
      "1. We create a CTE named `client_rd` to filter clients with RD John Smith. We use LOWER() function to make the comparison case-insensitive.\n",
      "\n",
      "2. In the main query, we join the `product_income` table with our `client_rd` CTE.\n",
      "\n",
      "3. We select the client name, product level 2, and use DATE_TRUNC to get the month from the summary_date.\n",
      "\n",
      "4. We sum the income to get the monthly income.\n",
      "\n",
      "5. We group by client name, product level 2, and month.\n",
      "\n",
      "6. Finally, we order the results by client name, product level 2, and month for a clear presentation.\n",
      "\n",
      "This query complies with Athena syntax and follows the important notes you provided:\n",
      "- It uses LIKE with LOWER() for string comparisons.\n",
      "- It doesn't use aliases in the GROUP BY clause.\n",
      "- It respects column types (no quotes around non-string columns).\n",
      "- It includes all required columns in the CTE.\n",
      "Executing: Explain   WITH client_rd AS (     SELECT client_id, client_name     FROM client_product.client_info     WHERE LOWER(rd_name) LIKE LOWER('%John Smith%') )  SELECT      ci.client_name,     pi.product_level2,     DATE_TRUNC('month', pi.summary_date) AS month,     SUM(pi.income) AS monthly_income FROM client_product.product_income pi JOIN client_rd ci ON pi.client_id = ci.client_id GROUP BY      ci.client_name,     pi.product_level2,     DATE_TRUNC('month', pi.summary_date) ORDER BY      ci.client_name,     pi.product_level2,     month\n",
      " I am checking the syntax here\n",
      "execution_id: 537d2d40-b0fb-4f84-9552-466bc462fc3b\n"
     ]
    },
    {
     "name": "stderr",
     "output_type": "stream",
     "text": [
      "syntax checked for query passed in attempt number :1\n"
     ]
    },
    {
     "name": "stdout",
     "output_type": "stream",
     "text": [
      "Status : {'State': 'SUCCEEDED', 'SubmissionDateTime': datetime.datetime(2024, 10, 5, 15, 26, 38, 371000, tzinfo=tzlocal()), 'CompletionDateTime': datetime.datetime(2024, 10, 5, 15, 26, 38, 959000, tzinfo=tzlocal())}\n"
     ]
    }
   ],
   "source": [
    "sql,explanation = userinput('show me monthly income by client name and product level 2 for RD John Smith')"
   ]
  },
  {
   "cell_type": "code",
   "execution_count": 27,
   "id": "2ee2392f-6afa-428f-b5d9-3a175015d6f2",
   "metadata": {},
   "outputs": [
    {
     "data": {
      "text/plain": [
       "\"\\n\\nThis query does the following:\\n\\n1. We create a CTE named `client_rd` to filter clients with RD John Smith. We use LOWER() function to make the comparison case-insensitive.\\n\\n2. In the main query, we join the `product_income` table with our `client_rd` CTE.\\n\\n3. We select the client name, product level 2, and use DATE_TRUNC to get the month from the summary_date.\\n\\n4. We sum the income to get the monthly income.\\n\\n5. We group by client name, product level 2, and month.\\n\\n6. Finally, we order the results by client name, product level 2, and month for a clear presentation.\\n\\nThis query complies with Athena syntax and follows the important notes you provided:\\n- It uses LIKE with LOWER() for string comparisons.\\n- It doesn't use aliases in the GROUP BY clause.\\n- It respects column types (no quotes around non-string columns).\\n- It includes all required columns in the CTE.\""
      ]
     },
     "execution_count": 27,
     "metadata": {},
     "output_type": "execute_result"
    }
   ],
   "source": [
    "explanation"
   ]
  },
  {
   "cell_type": "code",
   "execution_count": 28,
   "id": "c36b5c9e-c2cd-492a-9576-011eeed2965f",
   "metadata": {},
   "outputs": [
    {
     "data": {
      "text/plain": [
       "\" WITH client_rd AS (     SELECT client_id, client_name     FROM client_product.client_info     WHERE LOWER(rd_name) LIKE LOWER('%John Smith%') )  SELECT      ci.client_name,     pi.product_level2,     DATE_TRUNC('month', pi.summary_date) AS month,     SUM(pi.income) AS monthly_income FROM client_product.product_income pi JOIN client_rd ci ON pi.client_id = ci.client_id GROUP BY      ci.client_name,     pi.product_level2,     DATE_TRUNC('month', pi.summary_date) ORDER BY      ci.client_name,     pi.product_level2,     month\""
      ]
     },
     "execution_count": 28,
     "metadata": {},
     "output_type": "execute_result"
    }
   ],
   "source": [
    "sql"
   ]
  },
  {
   "cell_type": "code",
   "execution_count": 29,
   "id": "c90d2077-0607-4228-82e6-cf56b008123f",
   "metadata": {},
   "outputs": [],
   "source": [
    "\n",
    "def fetch_results(querygenerated):\n",
    "    if querygenerated== 'Cannot Generate Query' :\n",
    "        return  pd.DataFrame()\n",
    "    else:\n",
    "        return rqstath.execute_query(querygenerated)\n"
   ]
  },
  {
   "cell_type": "code",
   "execution_count": 30,
   "id": "9c4fd744-72bb-4e4f-ac1c-b0e35e4559be",
   "metadata": {},
   "outputs": [
    {
     "name": "stderr",
     "output_type": "stream",
     "text": [
      "checking for file :llm-athena-output/athena_output/a575d7b6-1b13-4d7b-ab57-0195477b1686.csv\n"
     ]
    },
    {
     "name": "stdout",
     "output_type": "stream",
     "text": [
      "Calling download fine with params /tmp/llm-athena-output/athena_output/a575d7b6-1b13-4d7b-ab57-0195477b1686.csv,llm-athena-output/athena_output/a575d7b6-1b13-4d7b-ab57-0195477b1686.csv\n"
     ]
    }
   ],
   "source": [
    "result=fetch_results(sql)"
   ]
  },
  {
   "cell_type": "code",
   "execution_count": 31,
   "id": "31c6ae74-b755-44b0-955c-c2c800d3468a",
   "metadata": {},
   "outputs": [
    {
     "data": {
      "text/html": [
       "<div>\n",
       "<style scoped>\n",
       "    .dataframe tbody tr th:only-of-type {\n",
       "        vertical-align: middle;\n",
       "    }\n",
       "\n",
       "    .dataframe tbody tr th {\n",
       "        vertical-align: top;\n",
       "    }\n",
       "\n",
       "    .dataframe thead th {\n",
       "        text-align: right;\n",
       "    }\n",
       "</style>\n",
       "<table border=\"1\" class=\"dataframe\">\n",
       "  <thead>\n",
       "    <tr style=\"text-align: right;\">\n",
       "      <th></th>\n",
       "      <th>client_name</th>\n",
       "      <th>product_level2</th>\n",
       "      <th>month</th>\n",
       "      <th>monthly_income</th>\n",
       "    </tr>\n",
       "  </thead>\n",
       "  <tbody>\n",
       "    <tr>\n",
       "      <th>0</th>\n",
       "      <td>Company ABC1</td>\n",
       "      <td>BACS</td>\n",
       "      <td>2023-07-01</td>\n",
       "      <td>61104.0</td>\n",
       "    </tr>\n",
       "    <tr>\n",
       "      <th>1</th>\n",
       "      <td>Company ABC1</td>\n",
       "      <td>BACS</td>\n",
       "      <td>2023-08-01</td>\n",
       "      <td>60096.0</td>\n",
       "    </tr>\n",
       "    <tr>\n",
       "      <th>2</th>\n",
       "      <td>Company ABC1</td>\n",
       "      <td>BACS</td>\n",
       "      <td>2023-09-01</td>\n",
       "      <td>60056.0</td>\n",
       "    </tr>\n",
       "    <tr>\n",
       "      <th>3</th>\n",
       "      <td>Company ABC1</td>\n",
       "      <td>BACS</td>\n",
       "      <td>2023-10-01</td>\n",
       "      <td>61517.0</td>\n",
       "    </tr>\n",
       "    <tr>\n",
       "      <th>4</th>\n",
       "      <td>Company ABC1</td>\n",
       "      <td>BACS</td>\n",
       "      <td>2023-11-01</td>\n",
       "      <td>60987.0</td>\n",
       "    </tr>\n",
       "    <tr>\n",
       "      <th>...</th>\n",
       "      <td>...</td>\n",
       "      <td>...</td>\n",
       "      <td>...</td>\n",
       "      <td>...</td>\n",
       "    </tr>\n",
       "    <tr>\n",
       "      <th>343</th>\n",
       "      <td>EasyJet PLC</td>\n",
       "      <td>Overdraft</td>\n",
       "      <td>2024-02-01</td>\n",
       "      <td>34069.0</td>\n",
       "    </tr>\n",
       "    <tr>\n",
       "      <th>344</th>\n",
       "      <td>EasyJet PLC</td>\n",
       "      <td>Overdraft</td>\n",
       "      <td>2024-03-01</td>\n",
       "      <td>36103.0</td>\n",
       "    </tr>\n",
       "    <tr>\n",
       "      <th>345</th>\n",
       "      <td>EasyJet PLC</td>\n",
       "      <td>Overdraft</td>\n",
       "      <td>2024-04-01</td>\n",
       "      <td>36558.0</td>\n",
       "    </tr>\n",
       "    <tr>\n",
       "      <th>346</th>\n",
       "      <td>EasyJet PLC</td>\n",
       "      <td>Overdraft</td>\n",
       "      <td>2024-05-01</td>\n",
       "      <td>34427.0</td>\n",
       "    </tr>\n",
       "    <tr>\n",
       "      <th>347</th>\n",
       "      <td>EasyJet PLC</td>\n",
       "      <td>Overdraft</td>\n",
       "      <td>2024-06-01</td>\n",
       "      <td>35069.0</td>\n",
       "    </tr>\n",
       "  </tbody>\n",
       "</table>\n",
       "<p>348 rows × 4 columns</p>\n",
       "</div>"
      ],
      "text/plain": [
       "      client_name product_level2       month  monthly_income\n",
       "0    Company ABC1           BACS  2023-07-01         61104.0\n",
       "1    Company ABC1           BACS  2023-08-01         60096.0\n",
       "2    Company ABC1           BACS  2023-09-01         60056.0\n",
       "3    Company ABC1           BACS  2023-10-01         61517.0\n",
       "4    Company ABC1           BACS  2023-11-01         60987.0\n",
       "..            ...            ...         ...             ...\n",
       "343   EasyJet PLC      Overdraft  2024-02-01         34069.0\n",
       "344   EasyJet PLC      Overdraft  2024-03-01         36103.0\n",
       "345   EasyJet PLC      Overdraft  2024-04-01         36558.0\n",
       "346   EasyJet PLC      Overdraft  2024-05-01         34427.0\n",
       "347   EasyJet PLC      Overdraft  2024-06-01         35069.0\n",
       "\n",
       "[348 rows x 4 columns]"
      ]
     },
     "execution_count": 31,
     "metadata": {},
     "output_type": "execute_result"
    }
   ],
   "source": [
    "result"
   ]
  },
  {
   "cell_type": "code",
   "execution_count": 25,
   "id": "154bc1e0-4269-483b-ba13-8a10afc72743",
   "metadata": {},
   "outputs": [],
   "source": [
    "import pandas as pd\n",
    "pd.set_option('display.float_format', str)\n",
    "import matplotlib.pyplot as plt\n",
    "from matplotlib import rcParams\n",
    "rcParams.update({'figure.autolayout': True})\n",
    "df = pd.DataFrame({\n",
    "    'parent_name': ['EasyJet PLC', 'Parent Company ABC', 'Parent Company DEF', 'Parent Company GHI', 'Parent Company JKL', 'Parent Company UVW', 'Parent Company XYZ'],\n",
    "    'month': ['2023-07-31', '2023-07-31', '2023-07-31', '2023-07-31', '2023-07-31', '2023-07-31', '2023-07-31'],\n",
    "    'total_income': [34130, 31795, 138652, 37823, 63275, 57154, 122605],\n",
    "    'total_balance': [3903510.0, 1971690.0, 41484300.0, 3431680.0, 16319600.0, 10335500.0, 18764600.0]\n",
    "})\n",
    "\n",
    "grouped = df.groupby('parent_name')['total_income'].sum()\n",
    "grouped.plot(kind='bar')\n",
    "plt.title('Total Income by Parent Company')\n",
    "plt.xlabel('Parent Company')\n",
    "plt.ylabel('Total Income')\n",
    "plt.savefig('total_income_by_parent_company.png',dpi=100)\n",
    "plt.show()"
   ]
  },
  {
   "cell_type": "code",
   "execution_count": null,
   "id": "e36292f0-eb82-4d14-8ba3-2f3dc99d2a08",
   "metadata": {},
   "outputs": [],
   "source": []
  }
 ],
 "metadata": {
  "kernelspec": {
   "display_name": "Python 3 (ipykernel)",
   "language": "python",
   "name": "python3"
  },
  "language_info": {
   "codemirror_mode": {
    "name": "ipython",
    "version": 3
   },
   "file_extension": ".py",
   "mimetype": "text/x-python",
   "name": "python",
   "nbconvert_exporter": "python",
   "pygments_lexer": "ipython3",
   "version": "3.11.9"
  }
 },
 "nbformat": 4,
 "nbformat_minor": 5
}
