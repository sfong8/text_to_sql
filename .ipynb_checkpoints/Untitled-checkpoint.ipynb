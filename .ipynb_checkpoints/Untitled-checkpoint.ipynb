{
 "cells": [
  {
   "cell_type": "code",
   "execution_count": 8,
   "id": "079f19d5-6833-43ac-b0b2-33ac7564efc4",
   "metadata": {},
   "outputs": [
    {
     "name": "stderr",
     "output_type": "stream",
     "text": [
      "/opt/conda/lib/python3.11/site-packages/pydantic/_internal/_fields.py:132: UserWarning: Field \"model_id\" in BedrockBase has conflict with protected namespace \"model_\".\n",
      "\n",
      "You may be able to resolve this warning by setting `model_config['protected_namespaces'] = ()`.\n",
      "  warnings.warn(\n",
      "/opt/conda/lib/python3.11/site-packages/pydantic/_internal/_fields.py:132: UserWarning: Field \"model_kwargs\" in BedrockBase has conflict with protected namespace \"model_\".\n",
      "\n",
      "You may be able to resolve this warning by setting `model_config['protected_namespaces'] = ()`.\n",
      "  warnings.warn(\n",
      "athena client created \n",
      "s3 client created !!\n",
      "bedrock runtime client created \n",
      "/home/sagemaker-user/demo/llm_basemodel2.py:33: LangChainDeprecationWarning: The class `BedrockEmbeddings` was deprecated in LangChain 0.2.11 and will be removed in 1.0. An updated version of the class exists in the :class:`~langchain-aws package and should be used instead. To use it run `pip install -U :class:`~langchain-aws` and import as `from :class:`~langchain_aws import BedrockEmbeddings``.\n",
      "  self.embeddings = BedrockEmbeddings(\n"
     ]
    },
    {
     "name": "stdout",
     "output_type": "stream",
     "text": [
      "Loaded vector store\n"
     ]
    },
    {
     "name": "stderr",
     "output_type": "stream",
     "text": [
      "bedrock runtime client created \n"
     ]
    }
   ],
   "source": [
    "import boto3\n",
    "from botocore.config import Config\n",
    "from langchain.llms.bedrock import Bedrock\n",
    "from langchain.embeddings import BedrockEmbeddings\n",
    "import pprint\n",
    "import streamlit as st\n",
    "import logging \n",
    "import json\n",
    "import os,sys\n",
    "import re\n",
    "sys.path.append('/home/sagemaker-user/demo/')\n",
    "import time\n",
    "import pandas as pd\n",
    "import io\n",
    "from boto_client import Clientmodules\n",
    "from llm_basemodel2 import LanguageModel_titantext, LanguageModel\n",
    "from athena_execution import AthenaQueryExecute\n",
    "from vector_embedding_client_product import EmbeddingBedrock\n",
    "from sql_formatter.core import format_sql\n",
    "import importlib.util\n",
    "import inspect\n",
    "from src.utils import *\n",
    "\n",
    "\n",
    "logger = logging.getLogger(__name__)\n",
    "logger.setLevel(logging.DEBUG)\n",
    "logger.addHandler(logging.StreamHandler())\n",
    "session = boto3.session.Session()\n",
    "bedrock_client = session.client('bedrock')\n",
    "rqstath=AthenaQueryExecute()\n",
    "comprehend_client = session.client('comprehend')\n",
    "eb = EmbeddingBedrock()\n",
    "\n",
    "eb_load = eb.load_local_vector_store(vector_store_path=r'/home/sagemaker-user/demo/vector_store_client_product/23072024121127.vs')\n",
    "# eb_load = eb.load_local_vector_store(vector_store_path=r'/home/sagemaker-user/text-to-sql-for-athena/vector_store_client_product/22072024182912.vs')\n",
    "# eb_load = eb.load_local_vector_store(vector_store_path=r'/home/sagemaker-user/text-to-sql-for-athena/vector_store/20062024133050.vs')\n",
    "from inspect import cleandoc\n",
    "class RequestQueryBedrock:\n",
    "    def __init__(self):\n",
    "        # self.model_id = \"anthropic.claude-v2\"\n",
    "        self.bedrock_client = Clientmodules.createBedrockRuntimeClient()\n",
    "        self.language_model = LanguageModel(self.bedrock_client)\n",
    "        self.llm = self.language_model.llm\n",
    "    def getEmbedding(self,user_query):\n",
    "        vcindxdoc=eb_load\n",
    "        documnet=eb.getSimilaritySearch(user_query,vcindxdoc)\n",
    "        return eb.format_metadata(documnet)\n",
    "        \n",
    "    def generate_sql(self,prompt, max_attempt=2) ->str:\n",
    "            \"\"\"\n",
    "            Generate and Validate SQL query.\n",
    "\n",
    "            Args:\n",
    "            - prompt (str): Prompt is user input and metadata from Rag to generating SQL.\n",
    "            - max_attempt (int): Maximum number of attempts correct the syntax SQL.\n",
    "\n",
    "            Returns:\n",
    "            - string: Sql query is returned .\n",
    "            \"\"\"\n",
    "            attempt = 0\n",
    "            error_messages = []\n",
    "            prompts = [prompt]\n",
    "\n",
    "            while attempt < max_attempt:\n",
    "                logger.info(f'Sql Generation attempt Count: {attempt+1}')\n",
    "                logger.info(f'we are in Try block to generate the sql and count is :{attempt+1}')\n",
    "                generated_sql = self.llm.invoke(prompt).content\n",
    "                print(generated_sql)\n",
    "                query_str = generated_sql.split(\"```\")[1]\n",
    "                query_str = \" \".join(query_str.split(\"\\n\")).strip()\n",
    "                query_str = query_str.replace('`','\"')\n",
    "                sql_query = query_str[3:] if query_str.startswith(\"sql\") else query_str\n",
    "                \n",
    "                explanation = generated_sql.split(\"```\")[2]\n",
    "    \n",
    "                \n",
    "                \n",
    "                # return sql_query\n",
    "                syntaxcheckmsg=rqstath.syntax_checker(sql_query)\n",
    "                if syntaxcheckmsg=='Passed':\n",
    "                    logger.info(f'syntax checked for query passed in attempt number :{attempt+1}')\n",
    "                    return sql_query,explanation\n",
    "                else:\n",
    "                    prompt = f\"\"\"{prompt}\n",
    "                    This is syntax error: {syntaxcheckmsg}. \n",
    "                    To correct this, please generate an alternative SQL query which will correct the syntax error for Athena.\n",
    "                    The updated query should take care of all the syntax issues encountered.\n",
    "                    Follow the instructions mentioned above to remediate the error. \n",
    "                    Update the below SQL query to resolve the issue:\n",
    "                    {sqlgenerated}\n",
    "                    Make sure the updated SQL query aligns with the requirements provided in the initial question.\"\"\"\n",
    "                    prompts.append(prompt)\n",
    "                    attempt += 1\n",
    "\n",
    "            return sql_query,explanation\n",
    "\n",
    "rqst=RequestQueryBedrock()\n"
   ]
  },
  {
   "cell_type": "code",
   "execution_count": 10,
   "id": "9629a184-bee6-43fa-98b9-6eb43c9dc69b",
   "metadata": {},
   "outputs": [],
   "source": [
    "\n",
    "def userinput(user_query):\n",
    "    logger.info(f'Searching metadata from vector store')\n",
    "    # vector_search_match=rqst.getEmbeddding(user_query)\n",
    "    vector_search_match=rqst.getEmbedding(user_query)\n",
    "    # print(vector_search_match)\n",
    "    # details=\"It is important that the SQL query complies with Athena syntax.For date columns comparing to string , please cast the string input as date. It is important to not use alias for group by clause, if select has DATE_FORMAT then use DATE_FORMAT in the group by. It is also important to respect the type of columns: if a column is string, the value should be enclosed in quotes. If you are writing CTEs then include all the required columns. While concatenating a non string column, make sure cast the column to string. \"\n",
    "    \n",
    "        \n",
    "    # final_question = \"\\n\\nHuman:\"+details + vector_search_match + user_query+ \"n\\nAssistant:\"\n",
    "    final_question =f\"\"\" You are an AI assistant that converts natural language questions into SQL query complies with Athena syntax.\n",
    "            Important notes: It is important that the SQL query complies with Athena syntax.\n",
    "            For date columns comparing to string , please cast the string input as date. \n",
    "            It is important to not use alias for group by clause. \n",
    "            It is also important to respect the type of columns: if a column is string, the value should be enclosed in quotes. \n",
    "            If you are writing CTEs then include all the required columns. \n",
    "            While concatenating a non string column, make sure cast the column to string.\n",
    "            \n",
    "            Database tables information:\n",
    "            {vector_search_match}\n",
    "\n",
    "            User question: {user_query}\n",
    "\n",
    "                \"\"\"\n",
    "    \n",
    "    answer,explanation = rqst.generate_sql(final_question)\n",
    "    return answer,explanation"
   ]
  },
  {
   "cell_type": "code",
   "execution_count": 11,
   "id": "c80db577-2506-4481-ad8b-3a8e0f254019",
   "metadata": {},
   "outputs": [
    {
     "name": "stderr",
     "output_type": "stream",
     "text": [
      "Searching metadata from vector store\n",
      "Sql Generation attempt Count: 1\n",
      "we are in Try block to generate the sql and count is :1\n"
     ]
    },
    {
     "name": "stdout",
     "output_type": "stream",
     "text": [
      "To answer this question, we'll need to join the client_info table with the product_income and product_balance tables, group by region and summary date, and calculate the total income and balance. Here's the SQL query that complies with Athena syntax:\n",
      "\n",
      "```sql\n",
      "WITH monthly_data AS (\n",
      "    SELECT \n",
      "        ci.region,\n",
      "        pi.summary_date,\n",
      "        SUM(pi.income) AS total_income,\n",
      "        SUM(pb.balance) AS total_balance\n",
      "    FROM \n",
      "        client_product.client_info ci\n",
      "    JOIN \n",
      "        client_product.product_income pi ON ci.client_id = pi.client_id\n",
      "    JOIN \n",
      "        client_product.product_balance pb ON pi.account_id = pb.account_id\n",
      "        AND pi.summary_date = pb.summary_date\n",
      "    GROUP BY \n",
      "        ci.region,\n",
      "        pi.summary_date\n",
      ")\n",
      "SELECT \n",
      "    region,\n",
      "    DATE_TRUNC('month', summary_date) AS month,\n",
      "    SUM(total_income) AS monthly_total_income,\n",
      "    SUM(total_balance) AS monthly_total_balance\n",
      "FROM \n",
      "    monthly_data\n",
      "GROUP BY \n",
      "    region,\n",
      "    DATE_TRUNC('month', summary_date)\n",
      "ORDER BY \n",
      "    region,\n",
      "    month;\n",
      "```\n",
      "\n",
      "This query does the following:\n",
      "\n",
      "1. Creates a CTE (Common Table Expression) called `monthly_data` that:\n",
      "   - Joins the three relevant tables: `client_info`, `product_income`, and `product_balance`.\n",
      "   - Groups the data by region and summary date.\n",
      "   - Calculates the total income and total balance for each region and date.\n",
      "\n",
      "2. The main query then:\n",
      "   - Groups the data from the CTE by region and month (using DATE_TRUNC to get the month from the summary_date).\n",
      "   - Calculates the monthly total income and monthly total balance.\n",
      "   - Orders the results by region and month.\n",
      "\n",
      "This query complies with Athena syntax and addresses the requirements:\n",
      "- It doesn't use aliases in the GROUP BY clause.\n",
      "- It respects the column types (no quotes needed for non-string columns).\n",
      "- It includes all required columns in the CTE.\n",
      "- It uses appropriate join keys as specified in the table descriptions.\n",
      "\n",
      "The result will show the total monthly income and balance for each region, allowing you to see how these metrics vary by region and over time.\n",
      "Executing: Explain   WITH monthly_data AS (     SELECT          ci.region,         pi.summary_date,         SUM(pi.income) AS total_income,         SUM(pb.balance) AS total_balance     FROM          client_product.client_info ci     JOIN          client_product.product_income pi ON ci.client_id = pi.client_id     JOIN          client_product.product_balance pb ON pi.account_id = pb.account_id         AND pi.summary_date = pb.summary_date     GROUP BY          ci.region,         pi.summary_date ) SELECT      region,     DATE_TRUNC('month', summary_date) AS month,     SUM(total_income) AS monthly_total_income,     SUM(total_balance) AS monthly_total_balance FROM      monthly_data GROUP BY      region,     DATE_TRUNC('month', summary_date) ORDER BY      region,     month;\n",
      " I am checking the syntax here\n",
      "execution_id: b43262eb-2172-49b7-a337-aca339c76ee7\n"
     ]
    },
    {
     "name": "stderr",
     "output_type": "stream",
     "text": [
      "syntax checked for query passed in attempt number :1\n"
     ]
    },
    {
     "name": "stdout",
     "output_type": "stream",
     "text": [
      "Status : {'State': 'SUCCEEDED', 'SubmissionDateTime': datetime.datetime(2024, 10, 5, 14, 27, 45, 189000, tzinfo=tzlocal()), 'CompletionDateTime': datetime.datetime(2024, 10, 5, 14, 27, 46, 657000, tzinfo=tzlocal())}\n"
     ]
    }
   ],
   "source": [
    "sql,explanation = userinput('show me the total monthly income and balance by region\"')"
   ]
  },
  {
   "cell_type": "code",
   "execution_count": 7,
   "id": "2ee2392f-6afa-428f-b5d9-3a175015d6f2",
   "metadata": {},
   "outputs": [
    {
     "data": {
      "text/plain": [
       "'\\n\\nThis query does the following:\\n\\n1. First, we create a CTE called `parent_clients` to get all the client IDs associated with the parent company \"parent company abc\". We use LOWER() function and LIKE operator for case-insensitive partial matching.\\n\\n2. Then, we create another CTE called `monthly_data` where we:\\n   - Join the `product_income` table with the `parent_clients` CTE to filter only the relevant clients.\\n   - Left join with the `product_balance` table to include balance information.\\n   - Group the data by month using DATE_TRUNC function.\\n   - Sum up the income and balance for each month.\\n\\n3. In the main query, we select from the `monthly_data` CTE, casting the month to DATE type for better readability.\\n\\n4. Finally, we order the results by month.\\n\\nThis query complies with Athena syntax and follows the important notes you provided:\\n- It uses CAST for date comparisons.\\n- It doesn\\'t use aliases in the GROUP BY clause.\\n- It respects column types (e.g., using quotes for string values).\\n- It uses LOWER() for case-insensitive string comparisons.'"
      ]
     },
     "execution_count": 7,
     "metadata": {},
     "output_type": "execute_result"
    }
   ],
   "source": [
    "explanation"
   ]
  },
  {
   "cell_type": "code",
   "execution_count": 8,
   "id": "c36b5c9e-c2cd-492a-9576-011eeed2965f",
   "metadata": {},
   "outputs": [
    {
     "data": {
      "text/plain": [
       "\" WITH parent_clients AS (     SELECT client_id     FROM client_product.client_info     WHERE LOWER(parent_name) LIKE LOWER('%parent company abc%') ), monthly_data AS (     SELECT          DATE_TRUNC('month', pi.summary_date) AS month,         SUM(pi.income) AS total_income,         SUM(pb.balance) AS total_balance     FROM client_product.product_income pi     JOIN parent_clients pc ON pi.client_id = pc.client_id     LEFT JOIN client_product.product_balance pb          ON pi.account_id = pb.account_id          AND pi.summary_date = pb.summary_date     GROUP BY DATE_TRUNC('month', pi.summary_date) ) SELECT      CAST(month AS DATE) AS month,     total_income,     total_balance FROM monthly_data ORDER BY month\""
      ]
     },
     "execution_count": 8,
     "metadata": {},
     "output_type": "execute_result"
    }
   ],
   "source": [
    "sql"
   ]
  },
  {
   "cell_type": "code",
   "execution_count": 12,
   "id": "c90d2077-0607-4228-82e6-cf56b008123f",
   "metadata": {},
   "outputs": [],
   "source": [
    "\n",
    "def fetch_results(querygenerated):\n",
    "    if querygenerated== 'Cannot Generate Query' :\n",
    "        return  pd.DataFrame()\n",
    "    else:\n",
    "        return rqstath.execute_query(querygenerated)\n"
   ]
  },
  {
   "cell_type": "code",
   "execution_count": null,
   "id": "9c4fd744-72bb-4e4f-ac1c-b0e35e4559be",
   "metadata": {},
   "outputs": [],
   "source": [
    "result=fetch_results("
   ]
  }
 ],
 "metadata": {
  "kernelspec": {
   "display_name": "Python 3 (ipykernel)",
   "language": "python",
   "name": "python3"
  },
  "language_info": {
   "codemirror_mode": {
    "name": "ipython",
    "version": 3
   },
   "file_extension": ".py",
   "mimetype": "text/x-python",
   "name": "python",
   "nbconvert_exporter": "python",
   "pygments_lexer": "ipython3",
   "version": "3.11.9"
  }
 },
 "nbformat": 4,
 "nbformat_minor": 5
}
